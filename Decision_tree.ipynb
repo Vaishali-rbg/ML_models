{
 "cells": [
  {
   "cell_type": "code",
   "execution_count": 1,
   "id": "a81a3fc3",
   "metadata": {},
   "outputs": [
    {
     "name": "stdout",
     "output_type": "stream",
     "text": [
      "Requirement already satisfied: scikit-learn in c:\\users\\vaish\\appdata\\local\\programs\\python\\python311\\lib\\site-packages (1.2.1)Note: you may need to restart the kernel to use updated packages.\n",
      "\n",
      "Collecting scikit-learn\n",
      "  Downloading scikit_learn-1.2.2-cp311-cp311-win_amd64.whl (8.3 MB)\n",
      "     ---------------------------------------- 0.0/8.3 MB ? eta -:--:--\n",
      "     - -------------------------------------- 0.3/8.3 MB 8.6 MB/s eta 0:00:01\n",
      "     -- ------------------------------------- 0.6/8.3 MB 9.2 MB/s eta 0:00:01\n",
      "     --- ------------------------------------ 0.7/8.3 MB 6.4 MB/s eta 0:00:02\n",
      "     --- ------------------------------------ 0.8/8.3 MB 4.4 MB/s eta 0:00:02\n",
      "     ---- ----------------------------------- 0.9/8.3 MB 4.2 MB/s eta 0:00:02\n",
      "     ------ --------------------------------- 1.3/8.3 MB 4.8 MB/s eta 0:00:02\n",
      "     -------- ------------------------------- 1.7/8.3 MB 5.5 MB/s eta 0:00:02\n",
      "     ---------- ----------------------------- 2.2/8.3 MB 6.0 MB/s eta 0:00:02\n",
      "     ------------- -------------------------- 2.8/8.3 MB 6.8 MB/s eta 0:00:01\n",
      "     ---------------- ----------------------- 3.3/8.3 MB 7.5 MB/s eta 0:00:01\n",
      "     ------------------- -------------------- 4.0/8.3 MB 7.9 MB/s eta 0:00:01\n",
      "     --------------------- ------------------ 4.5/8.3 MB 8.2 MB/s eta 0:00:01\n",
      "     ------------------------ --------------- 5.2/8.3 MB 8.7 MB/s eta 0:00:01\n",
      "     --------------------------- ------------ 5.6/8.3 MB 8.7 MB/s eta 0:00:01\n",
      "     ----------------------------- ---------- 6.1/8.3 MB 8.9 MB/s eta 0:00:01\n",
      "     -------------------------------- ------- 6.7/8.3 MB 9.1 MB/s eta 0:00:01\n",
      "     ----------------------------------- ---- 7.3/8.3 MB 9.3 MB/s eta 0:00:01\n",
      "     ------------------------------------- -- 7.8/8.3 MB 9.4 MB/s eta 0:00:01\n",
      "     ---------------------------------------  8.2/8.3 MB 9.3 MB/s eta 0:00:01\n",
      "     ---------------------------------------- 8.3/8.3 MB 9.0 MB/s eta 0:00:00\n",
      "Requirement already satisfied: numpy>=1.17.3 in c:\\users\\vaish\\appdata\\local\\programs\\python\\python311\\lib\\site-packages (from scikit-learn) (1.24.1)\n",
      "Requirement already satisfied: scipy>=1.3.2 in c:\\users\\vaish\\appdata\\local\\programs\\python\\python311\\lib\\site-packages (from scikit-learn) (1.10.0)\n",
      "Requirement already satisfied: joblib>=1.1.1 in c:\\users\\vaish\\appdata\\local\\programs\\python\\python311\\lib\\site-packages (from scikit-learn) (1.2.0)\n",
      "Requirement already satisfied: threadpoolctl>=2.0.0 in c:\\users\\vaish\\appdata\\local\\programs\\python\\python311\\lib\\site-packages (from scikit-learn) (3.1.0)\n",
      "Installing collected packages: scikit-learn\n",
      "  Attempting uninstall: scikit-learn\n",
      "    Found existing installation: scikit-learn 1.2.1\n",
      "    Uninstalling scikit-learn-1.2.1:\n",
      "      Successfully uninstalled scikit-learn-1.2.1\n",
      "Successfully installed scikit-learn-1.2.2\n"
     ]
    }
   ],
   "source": [
    "pip install -U scikit-learn"
   ]
  },
  {
   "cell_type": "code",
   "execution_count": 2,
   "id": "6bf0ca53",
   "metadata": {},
   "outputs": [
    {
     "data": {
      "text/plain": [
       "'C:\\\\Users\\\\vaish\\\\OneDrive\\\\Desktop\\\\docs\\\\jupyter'"
      ]
     },
     "execution_count": 2,
     "metadata": {},
     "output_type": "execute_result"
    }
   ],
   "source": [
    "pwd\n"
   ]
  },
  {
   "cell_type": "code",
   "execution_count": 48,
   "id": "ecaf4b32",
   "metadata": {},
   "outputs": [],
   "source": [
    "import pandas as pd\n",
    "import numpy as nm\n",
    "import matplotlib.pyplot as mtp"
   ]
  },
  {
   "cell_type": "code",
   "execution_count": 5,
   "id": "0927f6d5",
   "metadata": {},
   "outputs": [],
   "source": [
    "housing_dataset = pd.read_csv('C:/Users/vaish/OneDrive/Desktop/docs/jupyter/Housing.csv', sep=',', encoding='latin-1')"
   ]
  },
  {
   "cell_type": "code",
   "execution_count": 20,
   "id": "6d1f7511",
   "metadata": {},
   "outputs": [
    {
     "data": {
      "text/html": [
       "<div>\n",
       "<style scoped>\n",
       "    .dataframe tbody tr th:only-of-type {\n",
       "        vertical-align: middle;\n",
       "    }\n",
       "\n",
       "    .dataframe tbody tr th {\n",
       "        vertical-align: top;\n",
       "    }\n",
       "\n",
       "    .dataframe thead th {\n",
       "        text-align: right;\n",
       "    }\n",
       "</style>\n",
       "<table border=\"1\" class=\"dataframe\">\n",
       "  <thead>\n",
       "    <tr style=\"text-align: right;\">\n",
       "      <th></th>\n",
       "      <th>price</th>\n",
       "      <th>area</th>\n",
       "      <th>bedrooms</th>\n",
       "      <th>bathrooms</th>\n",
       "      <th>stories</th>\n",
       "      <th>mainroad</th>\n",
       "      <th>guestroom</th>\n",
       "      <th>basement</th>\n",
       "      <th>hotwaterheating</th>\n",
       "      <th>airconditioning</th>\n",
       "      <th>parking</th>\n",
       "      <th>prefarea</th>\n",
       "      <th>furnishingstatus</th>\n",
       "    </tr>\n",
       "  </thead>\n",
       "  <tbody>\n",
       "    <tr>\n",
       "      <th>0</th>\n",
       "      <td>13300000</td>\n",
       "      <td>7420</td>\n",
       "      <td>4</td>\n",
       "      <td>2</td>\n",
       "      <td>3</td>\n",
       "      <td>yes</td>\n",
       "      <td>no</td>\n",
       "      <td>no</td>\n",
       "      <td>no</td>\n",
       "      <td>yes</td>\n",
       "      <td>2</td>\n",
       "      <td>yes</td>\n",
       "      <td>furnished</td>\n",
       "    </tr>\n",
       "    <tr>\n",
       "      <th>1</th>\n",
       "      <td>12250000</td>\n",
       "      <td>8960</td>\n",
       "      <td>4</td>\n",
       "      <td>4</td>\n",
       "      <td>4</td>\n",
       "      <td>yes</td>\n",
       "      <td>no</td>\n",
       "      <td>no</td>\n",
       "      <td>no</td>\n",
       "      <td>yes</td>\n",
       "      <td>3</td>\n",
       "      <td>no</td>\n",
       "      <td>furnished</td>\n",
       "    </tr>\n",
       "    <tr>\n",
       "      <th>2</th>\n",
       "      <td>12250000</td>\n",
       "      <td>9960</td>\n",
       "      <td>3</td>\n",
       "      <td>2</td>\n",
       "      <td>2</td>\n",
       "      <td>yes</td>\n",
       "      <td>no</td>\n",
       "      <td>yes</td>\n",
       "      <td>no</td>\n",
       "      <td>no</td>\n",
       "      <td>2</td>\n",
       "      <td>yes</td>\n",
       "      <td>semi-furnished</td>\n",
       "    </tr>\n",
       "    <tr>\n",
       "      <th>3</th>\n",
       "      <td>12215000</td>\n",
       "      <td>7500</td>\n",
       "      <td>4</td>\n",
       "      <td>2</td>\n",
       "      <td>2</td>\n",
       "      <td>yes</td>\n",
       "      <td>no</td>\n",
       "      <td>yes</td>\n",
       "      <td>no</td>\n",
       "      <td>yes</td>\n",
       "      <td>3</td>\n",
       "      <td>yes</td>\n",
       "      <td>furnished</td>\n",
       "    </tr>\n",
       "    <tr>\n",
       "      <th>4</th>\n",
       "      <td>11410000</td>\n",
       "      <td>7420</td>\n",
       "      <td>4</td>\n",
       "      <td>1</td>\n",
       "      <td>2</td>\n",
       "      <td>yes</td>\n",
       "      <td>yes</td>\n",
       "      <td>yes</td>\n",
       "      <td>no</td>\n",
       "      <td>yes</td>\n",
       "      <td>2</td>\n",
       "      <td>no</td>\n",
       "      <td>furnished</td>\n",
       "    </tr>\n",
       "  </tbody>\n",
       "</table>\n",
       "</div>"
      ],
      "text/plain": [
       "      price  area  bedrooms  bathrooms  stories mainroad guestroom basement  \\\n",
       "0  13300000  7420         4          2        3      yes        no       no   \n",
       "1  12250000  8960         4          4        4      yes        no       no   \n",
       "2  12250000  9960         3          2        2      yes        no      yes   \n",
       "3  12215000  7500         4          2        2      yes        no      yes   \n",
       "4  11410000  7420         4          1        2      yes       yes      yes   \n",
       "\n",
       "  hotwaterheating airconditioning  parking prefarea furnishingstatus  \n",
       "0              no             yes        2      yes        furnished  \n",
       "1              no             yes        3       no        furnished  \n",
       "2              no              no        2      yes   semi-furnished  \n",
       "3              no             yes        3      yes        furnished  \n",
       "4              no             yes        2       no        furnished  "
      ]
     },
     "execution_count": 20,
     "metadata": {},
     "output_type": "execute_result"
    }
   ],
   "source": [
    "housing_dataset.head()"
   ]
  },
  {
   "cell_type": "code",
   "execution_count": 6,
   "id": "a311ca7b",
   "metadata": {},
   "outputs": [
    {
     "data": {
      "text/html": [
       "<div>\n",
       "<style scoped>\n",
       "    .dataframe tbody tr th:only-of-type {\n",
       "        vertical-align: middle;\n",
       "    }\n",
       "\n",
       "    .dataframe tbody tr th {\n",
       "        vertical-align: top;\n",
       "    }\n",
       "\n",
       "    .dataframe thead th {\n",
       "        text-align: right;\n",
       "    }\n",
       "</style>\n",
       "<table border=\"1\" class=\"dataframe\">\n",
       "  <thead>\n",
       "    <tr style=\"text-align: right;\">\n",
       "      <th></th>\n",
       "      <th>price</th>\n",
       "      <th>area</th>\n",
       "      <th>bedrooms</th>\n",
       "      <th>bathrooms</th>\n",
       "      <th>stories</th>\n",
       "      <th>mainroad</th>\n",
       "      <th>guestroom</th>\n",
       "      <th>basement</th>\n",
       "      <th>hotwaterheating</th>\n",
       "      <th>airconditioning</th>\n",
       "      <th>parking</th>\n",
       "      <th>prefarea</th>\n",
       "      <th>furnishingstatus</th>\n",
       "    </tr>\n",
       "  </thead>\n",
       "  <tbody>\n",
       "    <tr>\n",
       "      <th>540</th>\n",
       "      <td>1820000</td>\n",
       "      <td>3000</td>\n",
       "      <td>2</td>\n",
       "      <td>1</td>\n",
       "      <td>1</td>\n",
       "      <td>yes</td>\n",
       "      <td>no</td>\n",
       "      <td>yes</td>\n",
       "      <td>no</td>\n",
       "      <td>no</td>\n",
       "      <td>2</td>\n",
       "      <td>no</td>\n",
       "      <td>unfurnished</td>\n",
       "    </tr>\n",
       "    <tr>\n",
       "      <th>541</th>\n",
       "      <td>1767150</td>\n",
       "      <td>2400</td>\n",
       "      <td>3</td>\n",
       "      <td>1</td>\n",
       "      <td>1</td>\n",
       "      <td>no</td>\n",
       "      <td>no</td>\n",
       "      <td>no</td>\n",
       "      <td>no</td>\n",
       "      <td>no</td>\n",
       "      <td>0</td>\n",
       "      <td>no</td>\n",
       "      <td>semi-furnished</td>\n",
       "    </tr>\n",
       "    <tr>\n",
       "      <th>542</th>\n",
       "      <td>1750000</td>\n",
       "      <td>3620</td>\n",
       "      <td>2</td>\n",
       "      <td>1</td>\n",
       "      <td>1</td>\n",
       "      <td>yes</td>\n",
       "      <td>no</td>\n",
       "      <td>no</td>\n",
       "      <td>no</td>\n",
       "      <td>no</td>\n",
       "      <td>0</td>\n",
       "      <td>no</td>\n",
       "      <td>unfurnished</td>\n",
       "    </tr>\n",
       "    <tr>\n",
       "      <th>543</th>\n",
       "      <td>1750000</td>\n",
       "      <td>2910</td>\n",
       "      <td>3</td>\n",
       "      <td>1</td>\n",
       "      <td>1</td>\n",
       "      <td>no</td>\n",
       "      <td>no</td>\n",
       "      <td>no</td>\n",
       "      <td>no</td>\n",
       "      <td>no</td>\n",
       "      <td>0</td>\n",
       "      <td>no</td>\n",
       "      <td>furnished</td>\n",
       "    </tr>\n",
       "    <tr>\n",
       "      <th>544</th>\n",
       "      <td>1750000</td>\n",
       "      <td>3850</td>\n",
       "      <td>3</td>\n",
       "      <td>1</td>\n",
       "      <td>2</td>\n",
       "      <td>yes</td>\n",
       "      <td>no</td>\n",
       "      <td>no</td>\n",
       "      <td>no</td>\n",
       "      <td>no</td>\n",
       "      <td>0</td>\n",
       "      <td>no</td>\n",
       "      <td>unfurnished</td>\n",
       "    </tr>\n",
       "  </tbody>\n",
       "</table>\n",
       "</div>"
      ],
      "text/plain": [
       "       price  area  bedrooms  bathrooms  stories mainroad guestroom basement  \\\n",
       "540  1820000  3000         2          1        1      yes        no      yes   \n",
       "541  1767150  2400         3          1        1       no        no       no   \n",
       "542  1750000  3620         2          1        1      yes        no       no   \n",
       "543  1750000  2910         3          1        1       no        no       no   \n",
       "544  1750000  3850         3          1        2      yes        no       no   \n",
       "\n",
       "    hotwaterheating airconditioning  parking prefarea furnishingstatus  \n",
       "540              no              no        2       no      unfurnished  \n",
       "541              no              no        0       no   semi-furnished  \n",
       "542              no              no        0       no      unfurnished  \n",
       "543              no              no        0       no        furnished  \n",
       "544              no              no        0       no      unfurnished  "
      ]
     },
     "execution_count": 6,
     "metadata": {},
     "output_type": "execute_result"
    }
   ],
   "source": [
    "housing_dataset.tail()"
   ]
  },
  {
   "cell_type": "code",
   "execution_count": 24,
   "id": "ed588900",
   "metadata": {},
   "outputs": [
    {
     "name": "stdout",
     "output_type": "stream",
     "text": [
      "Index(['price', 'area', 'bedrooms', 'bathrooms', 'stories', 'mainroad',\n",
      "       'guestroom', 'basement', 'hotwaterheating', 'airconditioning',\n",
      "       'parking', 'prefarea', 'furnishingstatus'],\n",
      "      dtype='object')\n"
     ]
    }
   ],
   "source": [
    "print(housing_dataset.columns)"
   ]
  },
  {
   "cell_type": "code",
   "execution_count": 31,
   "id": "1e998350",
   "metadata": {},
   "outputs": [
    {
     "name": "stdout",
     "output_type": "stream",
     "text": [
      "        price  area  bedrooms  bathrooms  stories\n",
      "0    13300000  7420         4          2        3\n",
      "1    12250000  8960         4          4        4\n",
      "2    12250000  9960         3          2        2\n",
      "3    12215000  7500         4          2        2\n",
      "4    11410000  7420         4          1        2\n",
      "..        ...   ...       ...        ...      ...\n",
      "540   1820000  3000         2          1        1\n",
      "541   1767150  2400         3          1        1\n",
      "542   1750000  3620         2          1        1\n",
      "543   1750000  2910         3          1        1\n",
      "544   1750000  3850         3          1        2\n",
      "\n",
      "[545 rows x 5 columns]\n"
     ]
    }
   ],
   "source": [
    "housing_splitdata= housing_dataset.iloc[:, 0:5]\n",
    "print(housing_splitdata)"
   ]
  },
  {
   "cell_type": "code",
   "execution_count": 52,
   "id": "08a9d496",
   "metadata": {},
   "outputs": [
    {
     "name": "stdout",
     "output_type": "stream",
     "text": [
      "     area  bedrooms  bathrooms  stories\n",
      "0    7420         4          2        3\n",
      "1    8960         4          4        4\n",
      "2    9960         3          2        2\n",
      "3    7500         4          2        2\n",
      "4    7420         4          1        2\n",
      "..    ...       ...        ...      ...\n",
      "540  3000         2          1        1\n",
      "541  2400         3          1        1\n",
      "542  3620         2          1        1\n",
      "543  2910         3          1        1\n",
      "544  3850         3          1        2\n",
      "\n",
      "[545 rows x 4 columns]\n"
     ]
    }
   ],
   "source": [
    "X= housing_splitdata.iloc[:,1:]\n",
    "print(X)"
   ]
  },
  {
   "cell_type": "code",
   "execution_count": 35,
   "id": "97f9ee1b",
   "metadata": {},
   "outputs": [
    {
     "name": "stdout",
     "output_type": "stream",
     "text": [
      "0      13300000\n",
      "1      12250000\n",
      "2      12250000\n",
      "3      12215000\n",
      "4      11410000\n",
      "         ...   \n",
      "540     1820000\n",
      "541     1767150\n",
      "542     1750000\n",
      "543     1750000\n",
      "544     1750000\n",
      "Name: price, Length: 545, dtype: int64\n"
     ]
    }
   ],
   "source": [
    "Y= housing_splitdata.iloc[:,0]\n",
    "print(Y)\n"
   ]
  },
  {
   "cell_type": "code",
   "execution_count": 36,
   "id": "cd222b28",
   "metadata": {},
   "outputs": [],
   "source": [
    "from sklearn.model_selection import train_test_split\n",
    "X_train, X_test, Y_train, Y_test= train_test_split( X,Y,test_size=0.25, random_state=0)"
   ]
  },
  {
   "cell_type": "markdown",
   "id": "8a368f68",
   "metadata": {},
   "source": [
    "###### "
   ]
  },
  {
   "cell_type": "code",
   "execution_count": 37,
   "id": "747300d0",
   "metadata": {},
   "outputs": [],
   "source": [
    "from sklearn.preprocessing import StandardScaler   \n",
    "st_X= StandardScaler()  \n",
    "X_train= st_X.fit_transform(X_train)    \n",
    "X_test= st_X.transform(X_test)   "
   ]
  },
  {
   "cell_type": "code",
   "execution_count": 38,
   "id": "7c551bd1",
   "metadata": {},
   "outputs": [
    {
     "data": {
      "text/html": [
       "<style>#sk-container-id-1 {color: black;background-color: white;}#sk-container-id-1 pre{padding: 0;}#sk-container-id-1 div.sk-toggleable {background-color: white;}#sk-container-id-1 label.sk-toggleable__label {cursor: pointer;display: block;width: 100%;margin-bottom: 0;padding: 0.3em;box-sizing: border-box;text-align: center;}#sk-container-id-1 label.sk-toggleable__label-arrow:before {content: \"▸\";float: left;margin-right: 0.25em;color: #696969;}#sk-container-id-1 label.sk-toggleable__label-arrow:hover:before {color: black;}#sk-container-id-1 div.sk-estimator:hover label.sk-toggleable__label-arrow:before {color: black;}#sk-container-id-1 div.sk-toggleable__content {max-height: 0;max-width: 0;overflow: hidden;text-align: left;background-color: #f0f8ff;}#sk-container-id-1 div.sk-toggleable__content pre {margin: 0.2em;color: black;border-radius: 0.25em;background-color: #f0f8ff;}#sk-container-id-1 input.sk-toggleable__control:checked~div.sk-toggleable__content {max-height: 200px;max-width: 100%;overflow: auto;}#sk-container-id-1 input.sk-toggleable__control:checked~label.sk-toggleable__label-arrow:before {content: \"▾\";}#sk-container-id-1 div.sk-estimator input.sk-toggleable__control:checked~label.sk-toggleable__label {background-color: #d4ebff;}#sk-container-id-1 div.sk-label input.sk-toggleable__control:checked~label.sk-toggleable__label {background-color: #d4ebff;}#sk-container-id-1 input.sk-hidden--visually {border: 0;clip: rect(1px 1px 1px 1px);clip: rect(1px, 1px, 1px, 1px);height: 1px;margin: -1px;overflow: hidden;padding: 0;position: absolute;width: 1px;}#sk-container-id-1 div.sk-estimator {font-family: monospace;background-color: #f0f8ff;border: 1px dotted black;border-radius: 0.25em;box-sizing: border-box;margin-bottom: 0.5em;}#sk-container-id-1 div.sk-estimator:hover {background-color: #d4ebff;}#sk-container-id-1 div.sk-parallel-item::after {content: \"\";width: 100%;border-bottom: 1px solid gray;flex-grow: 1;}#sk-container-id-1 div.sk-label:hover label.sk-toggleable__label {background-color: #d4ebff;}#sk-container-id-1 div.sk-serial::before {content: \"\";position: absolute;border-left: 1px solid gray;box-sizing: border-box;top: 0;bottom: 0;left: 50%;z-index: 0;}#sk-container-id-1 div.sk-serial {display: flex;flex-direction: column;align-items: center;background-color: white;padding-right: 0.2em;padding-left: 0.2em;position: relative;}#sk-container-id-1 div.sk-item {position: relative;z-index: 1;}#sk-container-id-1 div.sk-parallel {display: flex;align-items: stretch;justify-content: center;background-color: white;position: relative;}#sk-container-id-1 div.sk-item::before, #sk-container-id-1 div.sk-parallel-item::before {content: \"\";position: absolute;border-left: 1px solid gray;box-sizing: border-box;top: 0;bottom: 0;left: 50%;z-index: -1;}#sk-container-id-1 div.sk-parallel-item {display: flex;flex-direction: column;z-index: 1;position: relative;background-color: white;}#sk-container-id-1 div.sk-parallel-item:first-child::after {align-self: flex-end;width: 50%;}#sk-container-id-1 div.sk-parallel-item:last-child::after {align-self: flex-start;width: 50%;}#sk-container-id-1 div.sk-parallel-item:only-child::after {width: 0;}#sk-container-id-1 div.sk-dashed-wrapped {border: 1px dashed gray;margin: 0 0.4em 0.5em 0.4em;box-sizing: border-box;padding-bottom: 0.4em;background-color: white;}#sk-container-id-1 div.sk-label label {font-family: monospace;font-weight: bold;display: inline-block;line-height: 1.2em;}#sk-container-id-1 div.sk-label-container {text-align: center;}#sk-container-id-1 div.sk-container {/* jupyter's `normalize.less` sets `[hidden] { display: none; }` but bootstrap.min.css set `[hidden] { display: none !important; }` so we also need the `!important` here to be able to override the default hidden behavior on the sphinx rendered scikit-learn.org. See: https://github.com/scikit-learn/scikit-learn/issues/21755 */display: inline-block !important;position: relative;}#sk-container-id-1 div.sk-text-repr-fallback {display: none;}</style><div id=\"sk-container-id-1\" class=\"sk-top-container\"><div class=\"sk-text-repr-fallback\"><pre>DecisionTreeClassifier(criterion=&#x27;entropy&#x27;, random_state=0)</pre><b>In a Jupyter environment, please rerun this cell to show the HTML representation or trust the notebook. <br />On GitHub, the HTML representation is unable to render, please try loading this page with nbviewer.org.</b></div><div class=\"sk-container\" hidden><div class=\"sk-item\"><div class=\"sk-estimator sk-toggleable\"><input class=\"sk-toggleable__control sk-hidden--visually\" id=\"sk-estimator-id-1\" type=\"checkbox\" checked><label for=\"sk-estimator-id-1\" class=\"sk-toggleable__label sk-toggleable__label-arrow\">DecisionTreeClassifier</label><div class=\"sk-toggleable__content\"><pre>DecisionTreeClassifier(criterion=&#x27;entropy&#x27;, random_state=0)</pre></div></div></div></div></div>"
      ],
      "text/plain": [
       "DecisionTreeClassifier(criterion='entropy', random_state=0)"
      ]
     },
     "execution_count": 38,
     "metadata": {},
     "output_type": "execute_result"
    }
   ],
   "source": [
    "from sklearn.tree import DecisionTreeClassifier\n",
    "classifier= DecisionTreeClassifier(criterion='entropy', random_state=0)\n",
    "classifier.fit(X_train, Y_train) "
   ]
  },
  {
   "cell_type": "code",
   "execution_count": 42,
   "id": "38f086f9",
   "metadata": {},
   "outputs": [
    {
     "name": "stdout",
     "output_type": "stream",
     "text": [
      "[ 2653000  5250000  3360000  5600000  3500000  5600000  3430000  4193000\n",
      "  4550000  7245000  6300000  2275000  4193000  5243000  6860000  1767150\n",
      "  3493000  6860000  3010000  3570000  3773000  7700000  4620000  4340000\n",
      "  6300000  2520000  4200000  2940000  2835000  6300000  2590000  4200000\n",
      "  6090000  3423000  3220000  3990000  6629000  2485000  3395000  3850000\n",
      "  8575000  8400000  9800000  4025000  4550000  6650000  4830000  3423000\n",
      "  3990000  3675000  2450000  6790000  4340000  3255000  3500000  2940000\n",
      "  8575000  4130000  3675000  8400000  7000000  9100000  3850000  5775000\n",
      "  3220000  4200000  6300000  3570000  3570000  5740000  3850000  9800000\n",
      "  3710000  5250000  6510000  4403000  3360000  6790000  2520000  3430000\n",
      "  3850000  6895000  3570000  5215000  4130000  3010000  4193000  4200000\n",
      "  2940000  3850000  6475000  8400000  3500000  3850000  2240000 10150000\n",
      "  3850000  9100000  5320000  3087000  6790000  3360000  4200000  2485000\n",
      "  8855000  5873000  5243000  3143000  5110000  3675000  3430000  1820000\n",
      "  3675000  5250000  2275000  1750000  6790000  3500000  4550000  5110000\n",
      "  3353000  7455000  3570000  3010000  3080000  2835000  8575000  7000000\n",
      "  6300000  3010000  6510000  3423000  2100000  3500000  4550000  6790000\n",
      "  4935000]\n"
     ]
    }
   ],
   "source": [
    "Y_pred= classifier.predict(X_test)\n",
    "print(Y_pred)"
   ]
  },
  {
   "cell_type": "code",
   "execution_count": 44,
   "id": "9b6e657d",
   "metadata": {},
   "outputs": [
    {
     "name": "stdout",
     "output_type": "stream",
     "text": [
      "[[0 0 0 ... 0 0 0]\n",
      " [0 0 0 ... 0 0 0]\n",
      " [0 0 0 ... 0 0 0]\n",
      " ...\n",
      " [0 0 0 ... 0 0 0]\n",
      " [0 0 0 ... 0 0 0]\n",
      " [0 0 0 ... 0 1 0]]\n"
     ]
    }
   ],
   "source": [
    "from sklearn.metrics import confusion_matrix  \n",
    "cm= confusion_matrix(Y_test, Y_pred) \n",
    "print(cm)"
   ]
  },
  {
   "cell_type": "code",
   "execution_count": 50,
   "id": "c0d36f23",
   "metadata": {},
   "outputs": [
    {
     "name": "stdout",
     "output_type": "stream",
     "text": [
      "[[-1.55021716 -1.35446064 -0.57931017  0.18542633]\n",
      " [ 0.09760377  0.06251357 -0.57931017 -0.94373698]\n",
      " [-1.05087748 -1.35446064 -0.57931017 -0.94373698]\n",
      " ...\n",
      " [ 0.32230663  0.06251357  1.47598157  2.44375293]\n",
      " [-0.75127368  0.06251357 -0.57931017 -0.94373698]\n",
      " [ 0.74674535  0.06251357 -0.57931017 -0.94373698]] [[-0.55153781  0.06251357 -0.57931017  0.18542633]\n",
      " [ 2.25475117  0.06251357 -0.57931017 -0.94373698]\n",
      " [-0.82118123  1.47948777 -0.57931017  0.18542633]\n",
      " [ 4.04238721 -1.35446064 -0.57931017 -0.94373698]\n",
      " [-0.7213133   1.47948777 -0.57931017  0.18542633]\n",
      " [ 0.62191043  0.06251357  1.47598157  1.31458963]\n",
      " [-0.62643876  0.06251357 -0.57931017 -0.94373698]\n",
      " [-0.81119444  0.06251357 -0.57931017  0.18542633]\n",
      " [-0.79521557 -1.35446064 -0.57931017 -0.94373698]\n",
      " [ 1.94516057  1.47948777  1.47598157  2.44375293]\n",
      " [ 0.44714155  1.47948777  1.47598157  2.44375293]\n",
      " [-0.57151139  0.06251357 -0.57931017  0.18542633]\n",
      " [-0.82617463  0.06251357 -0.57931017  0.18542633]\n",
      " [ 0.47710193  0.06251357 -0.57931017 -0.94373698]\n",
      " [ 0.43965145  0.06251357 -0.57931017 -0.94373698]\n",
      " [-1.3355011   0.06251357 -0.57931017 -0.94373698]\n",
      " [-0.1021321  -1.35446064 -0.57931017  0.18542633]\n",
      " [ 0.45712834  0.06251357 -0.57931017 -0.94373698]\n",
      " [-1.00094351  0.06251357 -0.57931017  0.18542633]\n",
      " [-0.30186797 -1.35446064 -0.57931017 -0.94373698]\n",
      " [ 1.52072185  0.06251357  1.47598157 -0.94373698]\n",
      " [ 0.6718444   0.06251357  1.47598157 -0.94373698]\n",
      " [-0.05219813  0.06251357 -0.57931017  0.18542633]\n",
      " [-1.70001906  0.06251357 -0.57931017  0.18542633]\n",
      " [ 0.65686421  0.06251357 -0.57931017  1.31458963]\n",
      " [-0.97597653  0.06251357  1.47598157 -0.94373698]\n",
      " [ 0.94648122  0.06251357 -0.57931017 -0.94373698]\n",
      " [ 0.28735285  0.06251357 -0.57931017  0.18542633]\n",
      " [-0.90107558  0.06251357  3.5312733   0.18542633]\n",
      " [ 0.65686421  0.06251357 -0.57931017 -0.94373698]\n",
      " [-0.35180194 -1.35446064 -0.57931017 -0.94373698]\n",
      " [-1.41289875  0.06251357 -0.57931017  1.31458963]\n",
      " [ 1.64555677  0.06251357 -0.57931017  0.18542633]\n",
      " [-0.53156422 -1.35446064 -0.57931017 -0.94373698]\n",
      " [-0.99095672  0.06251357 -0.57931017  0.18542633]\n",
      " [ 0.666851   -1.35446064 -0.57931017 -0.94373698]\n",
      " [ 0.44714155  1.47948777 -0.57931017  0.18542633]\n",
      " [-1.03290125  0.06251357 -0.57931017  0.18542633]\n",
      " [-0.82617463 -2.77143484 -0.57931017 -0.94373698]\n",
      " [-1.46283271  0.06251357 -0.57931017  0.18542633]\n",
      " [ 1.69549073  0.06251357  1.47598157  2.44375293]\n",
      " [ 0.39720758  1.47948777  1.47598157  0.18542633]\n",
      " [ 0.34727361  0.06251357  1.47598157  2.44375293]\n",
      " [ 0.19497501  0.06251357 -0.57931017 -0.94373698]\n",
      " [-0.79122085  0.06251357 -0.57931017 -0.94373698]\n",
      " [ 0.44714155  0.06251357  1.47598157  1.31458963]\n",
      " [-0.47164346  0.06251357 -0.57931017 -0.94373698]\n",
      " [-0.53156422 -1.35446064 -0.57931017 -0.94373698]\n",
      " [-0.52856818  0.06251357 -0.57931017  0.18542633]\n",
      " [ 0.29733964  0.06251357 -0.57931017 -0.94373698]\n",
      " [-0.13209248  0.06251357 -0.57931017  0.18542633]\n",
      " [ 2.27822014  1.47948777  1.47598157  0.18542633]\n",
      " [-1.72498604  0.06251357 -0.57931017  0.18542633]\n",
      " [-0.62643876 -1.35446064 -0.57931017 -0.94373698]\n",
      " [ 0.38722078  0.06251357 -0.57931017 -0.94373698]\n",
      " [ 0.30732644 -1.35446064 -0.57931017  0.18542633]\n",
      " [ 1.57065582  0.06251357  1.47598157  1.31458963]\n",
      " [-0.23196041  1.47948777 -0.57931017  0.18542633]\n",
      " [-0.75127368 -1.35446064 -0.57931017 -0.94373698]\n",
      " [ 0.94648122  0.06251357 -0.57931017  0.18542633]\n",
      " [ 3.89258531  0.06251357 -0.57931017 -0.94373698]\n",
      " [ 0.74674535  1.47948777  1.47598157  0.18542633]\n",
      " [-1.4828063   0.06251357  1.47598157  0.18542633]\n",
      " [ 0.44714155  0.06251357  1.47598157  2.44375293]\n",
      " [-1.23063976 -1.35446064 -0.57931017 -0.94373698]\n",
      " [-1.14225664  1.47948777  1.47598157  0.18542633]\n",
      " [ 1.02387887  0.06251357  1.47598157 -0.94373698]\n",
      " [-0.34680854 -1.35446064 -0.57931017 -0.94373698]\n",
      " [-0.30186797  0.06251357 -0.57931017 -0.94373698]\n",
      " [ 0.59694345  0.06251357 -0.57931017 -0.94373698]\n",
      " [-1.4778129   0.06251357 -0.57931017  0.18542633]\n",
      " [ 0.19747171  0.06251357  1.47598157  2.44375293]\n",
      " [-0.75127368  0.06251357 -0.57931017 -0.94373698]\n",
      " [-0.42170949  1.47948777  1.47598157  0.18542633]\n",
      " [-0.66139253 -1.35446064 -0.57931017  0.18542633]\n",
      " [-1.11579164 -1.35446064 -0.57931017  0.18542633]\n",
      " [-0.84115482  2.89646197 -0.57931017  0.18542633]\n",
      " [ 1.73543791  2.89646197  3.5312733   0.18542633]\n",
      " [-1.09581805  0.06251357 -0.57931017 -0.94373698]\n",
      " [-0.55153781 -1.35446064 -0.57931017 -0.94373698]\n",
      " [-1.4778129   0.06251357 -0.57931017  0.18542633]\n",
      " [ 1.28902824  0.06251357 -0.57931017 -0.94373698]\n",
      " [-0.29687457  1.47948777  1.47598157  0.18542633]\n",
      " [ 1.02238085  0.06251357 -0.57931017  0.18542633]\n",
      " [-0.251934    1.47948777 -0.57931017  0.18542633]\n",
      " [-0.93103596  1.47948777 -0.57931017  1.31458963]\n",
      " [-0.84115482 -1.35446064 -0.57931017  0.18542633]\n",
      " [ 0.34727361 -1.35446064 -0.57931017 -0.94373698]\n",
      " [-0.97597653  0.06251357 -0.57931017  0.18542633]\n",
      " [-0.51408733  0.06251357 -0.57931017 -0.94373698]\n",
      " [ 1.15820124  0.06251357 -0.57931017 -0.94373698]\n",
      " [ 1.94516057  0.06251357 -0.57931017 -0.94373698]\n",
      " [-0.73130009 -1.35446064 -0.57931017 -0.94373698]\n",
      " [-0.97597653 -1.35446064  1.47598157 -0.94373698]\n",
      " [-1.4778129   1.47948777  1.47598157 -0.94373698]\n",
      " [ 1.92518699  1.47948777  5.58656504  2.44375293]\n",
      " [-1.47032281  0.06251357 -0.57931017  0.18542633]\n",
      " [ 0.72177837  1.47948777  1.47598157  0.18542633]\n",
      " [ 1.33097277 -1.35446064 -0.57931017 -0.94373698]\n",
      " [ 1.64555677 -1.35446064 -0.57931017 -0.94373698]\n",
      " [ 2.69417009  1.47948777  1.47598157  0.18542633]\n",
      " [-0.81119444  1.47948777 -0.57931017  0.18542633]\n",
      " [-1.15723683  1.47948777  1.47598157  0.18542633]\n",
      " [-1.05087748  0.06251357 -0.57931017  0.18542633]\n",
      " [ 0.65686421  0.06251357  1.47598157  1.31458963]\n",
      " [ 0.0476698   0.06251357 -0.57931017  1.31458963]\n",
      " [ 0.47710193 -1.35446064 -0.57931017 -0.94373698]\n",
      " [-0.30186797 -1.35446064 -0.57931017  0.18542633]\n",
      " [ 0.49707551  0.06251357  1.47598157 -0.94373698]\n",
      " [-0.74128688 -1.35446064 -0.57931017 -0.94373698]\n",
      " [-0.55153781 -1.35446064 -0.57931017 -0.94373698]\n",
      " [-1.03090389 -1.35446064 -0.57931017 -0.94373698]\n",
      " [-0.75127368 -1.35446064 -0.57931017 -0.94373698]\n",
      " [ 2.37459269  0.06251357 -0.57931017 -0.94373698]\n",
      " [-0.56751668  0.06251357 -0.57931017  0.18542633]\n",
      " [-0.63143215  0.06251357 -0.57931017  0.18542633]\n",
      " [ 2.34463231  1.47948777  1.47598157  0.18542633]\n",
      " [-0.73130009 -1.35446064 -0.57931017 -0.94373698]\n",
      " [-0.79122085 -1.35446064  1.47598157 -0.94373698]\n",
      " [ 4.04238721  0.06251357 -0.57931017  0.18542633]\n",
      " [-1.20067938 -1.35446064 -0.57931017 -0.94373698]\n",
      " [-0.4017359   4.31343618  1.47598157  0.18542633]\n",
      " [-0.30186797 -1.35446064 -0.57931017 -0.94373698]\n",
      " [-0.05469483  1.47948777  1.47598157 -0.94373698]\n",
      " [-1.01642304 -1.35446064 -0.57931017 -0.94373698]\n",
      " [-0.37577024  1.47948777 -0.57931017  0.18542633]\n",
      " [ 1.88523981  0.06251357  1.47598157  0.18542633]\n",
      " [ 3.91455625  0.06251357 -0.57931017 -0.94373698]\n",
      " [ 1.02637557  0.06251357 -0.57931017 -0.94373698]\n",
      " [-0.75127368  4.31343618 -0.57931017  0.18542633]\n",
      " [ 0.77171233  0.06251357 -0.57931017  0.18542633]\n",
      " [-0.52657082 -1.35446064 -0.57931017 -0.94373698]\n",
      " [-1.05087748  1.47948777 -0.57931017  1.31458963]\n",
      " [-0.73130009 -1.35446064 -0.57931017 -0.94373698]\n",
      " [ 0.12756415  0.06251357 -0.57931017  0.18542633]\n",
      " [ 5.54040624  2.89646197  3.5312733   0.18542633]\n",
      " [ 0.42716796  0.06251357 -0.57931017  0.18542633]]\n"
     ]
    }
   ],
   "source": [
    "print(X_train, X_test)"
   ]
  },
  {
   "cell_type": "code",
   "execution_count": 62,
   "id": "80aeda6b",
   "metadata": {},
   "outputs": [],
   "source": [
    "dt = DecisionTreeClassifier()"
   ]
  },
  {
   "cell_type": "code",
   "execution_count": 63,
   "id": "a28dfca7",
   "metadata": {},
   "outputs": [
    {
     "data": {
      "text/html": [
       "<style>#sk-container-id-3 {color: black;background-color: white;}#sk-container-id-3 pre{padding: 0;}#sk-container-id-3 div.sk-toggleable {background-color: white;}#sk-container-id-3 label.sk-toggleable__label {cursor: pointer;display: block;width: 100%;margin-bottom: 0;padding: 0.3em;box-sizing: border-box;text-align: center;}#sk-container-id-3 label.sk-toggleable__label-arrow:before {content: \"▸\";float: left;margin-right: 0.25em;color: #696969;}#sk-container-id-3 label.sk-toggleable__label-arrow:hover:before {color: black;}#sk-container-id-3 div.sk-estimator:hover label.sk-toggleable__label-arrow:before {color: black;}#sk-container-id-3 div.sk-toggleable__content {max-height: 0;max-width: 0;overflow: hidden;text-align: left;background-color: #f0f8ff;}#sk-container-id-3 div.sk-toggleable__content pre {margin: 0.2em;color: black;border-radius: 0.25em;background-color: #f0f8ff;}#sk-container-id-3 input.sk-toggleable__control:checked~div.sk-toggleable__content {max-height: 200px;max-width: 100%;overflow: auto;}#sk-container-id-3 input.sk-toggleable__control:checked~label.sk-toggleable__label-arrow:before {content: \"▾\";}#sk-container-id-3 div.sk-estimator input.sk-toggleable__control:checked~label.sk-toggleable__label {background-color: #d4ebff;}#sk-container-id-3 div.sk-label input.sk-toggleable__control:checked~label.sk-toggleable__label {background-color: #d4ebff;}#sk-container-id-3 input.sk-hidden--visually {border: 0;clip: rect(1px 1px 1px 1px);clip: rect(1px, 1px, 1px, 1px);height: 1px;margin: -1px;overflow: hidden;padding: 0;position: absolute;width: 1px;}#sk-container-id-3 div.sk-estimator {font-family: monospace;background-color: #f0f8ff;border: 1px dotted black;border-radius: 0.25em;box-sizing: border-box;margin-bottom: 0.5em;}#sk-container-id-3 div.sk-estimator:hover {background-color: #d4ebff;}#sk-container-id-3 div.sk-parallel-item::after {content: \"\";width: 100%;border-bottom: 1px solid gray;flex-grow: 1;}#sk-container-id-3 div.sk-label:hover label.sk-toggleable__label {background-color: #d4ebff;}#sk-container-id-3 div.sk-serial::before {content: \"\";position: absolute;border-left: 1px solid gray;box-sizing: border-box;top: 0;bottom: 0;left: 50%;z-index: 0;}#sk-container-id-3 div.sk-serial {display: flex;flex-direction: column;align-items: center;background-color: white;padding-right: 0.2em;padding-left: 0.2em;position: relative;}#sk-container-id-3 div.sk-item {position: relative;z-index: 1;}#sk-container-id-3 div.sk-parallel {display: flex;align-items: stretch;justify-content: center;background-color: white;position: relative;}#sk-container-id-3 div.sk-item::before, #sk-container-id-3 div.sk-parallel-item::before {content: \"\";position: absolute;border-left: 1px solid gray;box-sizing: border-box;top: 0;bottom: 0;left: 50%;z-index: -1;}#sk-container-id-3 div.sk-parallel-item {display: flex;flex-direction: column;z-index: 1;position: relative;background-color: white;}#sk-container-id-3 div.sk-parallel-item:first-child::after {align-self: flex-end;width: 50%;}#sk-container-id-3 div.sk-parallel-item:last-child::after {align-self: flex-start;width: 50%;}#sk-container-id-3 div.sk-parallel-item:only-child::after {width: 0;}#sk-container-id-3 div.sk-dashed-wrapped {border: 1px dashed gray;margin: 0 0.4em 0.5em 0.4em;box-sizing: border-box;padding-bottom: 0.4em;background-color: white;}#sk-container-id-3 div.sk-label label {font-family: monospace;font-weight: bold;display: inline-block;line-height: 1.2em;}#sk-container-id-3 div.sk-label-container {text-align: center;}#sk-container-id-3 div.sk-container {/* jupyter's `normalize.less` sets `[hidden] { display: none; }` but bootstrap.min.css set `[hidden] { display: none !important; }` so we also need the `!important` here to be able to override the default hidden behavior on the sphinx rendered scikit-learn.org. See: https://github.com/scikit-learn/scikit-learn/issues/21755 */display: inline-block !important;position: relative;}#sk-container-id-3 div.sk-text-repr-fallback {display: none;}</style><div id=\"sk-container-id-3\" class=\"sk-top-container\"><div class=\"sk-text-repr-fallback\"><pre>DecisionTreeClassifier()</pre><b>In a Jupyter environment, please rerun this cell to show the HTML representation or trust the notebook. <br />On GitHub, the HTML representation is unable to render, please try loading this page with nbviewer.org.</b></div><div class=\"sk-container\" hidden><div class=\"sk-item\"><div class=\"sk-estimator sk-toggleable\"><input class=\"sk-toggleable__control sk-hidden--visually\" id=\"sk-estimator-id-3\" type=\"checkbox\" checked><label for=\"sk-estimator-id-3\" class=\"sk-toggleable__label sk-toggleable__label-arrow\">DecisionTreeClassifier</label><div class=\"sk-toggleable__content\"><pre>DecisionTreeClassifier()</pre></div></div></div></div></div>"
      ],
      "text/plain": [
       "DecisionTreeClassifier()"
      ]
     },
     "execution_count": 63,
     "metadata": {},
     "output_type": "execute_result"
    }
   ],
   "source": [
    "dt.fit(X_train, Y_train)"
   ]
  },
  {
   "cell_type": "code",
   "execution_count": 64,
   "id": "8dc2b497",
   "metadata": {},
   "outputs": [],
   "source": [
    "Y_pred = dt.predict(X_test)"
   ]
  },
  {
   "cell_type": "code",
   "execution_count": 66,
   "id": "7371cf6f",
   "metadata": {},
   "outputs": [
    {
     "name": "stdout",
     "output_type": "stream",
     "text": [
      "Accuracy: 0.014598540145985401\n"
     ]
    }
   ],
   "source": [
    "from sklearn.metrics import accuracy_score\n",
    "accuracy = accuracy_score(Y_test, Y_pred)\n",
    "print(\"Accuracy:\", accuracy)"
   ]
  },
  {
   "cell_type": "code",
   "execution_count": 67,
   "id": "b853b9b3",
   "metadata": {},
   "outputs": [
    {
     "ename": "NameError",
     "evalue": "name 'X_pred' is not defined",
     "output_type": "error",
     "traceback": [
      "\u001b[1;31m---------------------------------------------------------------------------\u001b[0m",
      "\u001b[1;31mNameError\u001b[0m                                 Traceback (most recent call last)",
      "Cell \u001b[1;32mIn[67], line 2\u001b[0m\n\u001b[0;32m      1\u001b[0m \u001b[38;5;28;01mfrom\u001b[39;00m \u001b[38;5;21;01msklearn\u001b[39;00m\u001b[38;5;21;01m.\u001b[39;00m\u001b[38;5;21;01mmetrics\u001b[39;00m \u001b[38;5;28;01mimport\u001b[39;00m accuracy_score\n\u001b[1;32m----> 2\u001b[0m accuracy \u001b[38;5;241m=\u001b[39m accuracy_score(X_test, \u001b[43mX_pred\u001b[49m)\n\u001b[0;32m      3\u001b[0m \u001b[38;5;28mprint\u001b[39m(\u001b[38;5;124m\"\u001b[39m\u001b[38;5;124mAccuracy:\u001b[39m\u001b[38;5;124m\"\u001b[39m, accuracy)\n",
      "\u001b[1;31mNameError\u001b[0m: name 'X_pred' is not defined"
     ]
    }
   ],
   "source": [
    "from sklearn.metrics import accuracy_score\n",
    "accuracy = accuracy_score(X_test, X_pred)\n",
    "print(\"Accuracy:\", accuracy)"
   ]
  },
  {
   "cell_type": "code",
   "execution_count": 68,
   "id": "9b04cb87",
   "metadata": {},
   "outputs": [],
   "source": [
    "#Prediction is done only for Y_set as the model is trained to predict the outcome from the training dataset."
   ]
  },
  {
   "cell_type": "code",
   "execution_count": null,
   "id": "04c2876f",
   "metadata": {},
   "outputs": [],
   "source": []
  }
 ],
 "metadata": {
  "kernelspec": {
   "display_name": "Python 3 (ipykernel)",
   "language": "python",
   "name": "python3"
  },
  "language_info": {
   "codemirror_mode": {
    "name": "ipython",
    "version": 3
   },
   "file_extension": ".py",
   "mimetype": "text/x-python",
   "name": "python",
   "nbconvert_exporter": "python",
   "pygments_lexer": "ipython3",
   "version": "3.11.1"
  }
 },
 "nbformat": 4,
 "nbformat_minor": 5
}
